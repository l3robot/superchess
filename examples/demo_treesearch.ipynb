{
 "cells": [
  {
   "cell_type": "code",
   "execution_count": null,
   "metadata": {},
   "outputs": [],
   "source": [
    "import chess\n",
    "from chess import svg\n",
    "from superchess.players import RandomPlayer, MinMaxPlayer, AlphaBetaPlayer\n",
    "from superchess.game_mechanics import game_loop\n",
    "%load_ext autoreload\n",
    "%autoreload 2"
   ]
  },
  {
   "cell_type": "code",
   "execution_count": null,
   "metadata": {},
   "outputs": [],
   "source": [
    "randomplayer = RandomPlayer()\n",
    "abplayer1 = AlphaBetaPlayer(1, use_mobility=False)\n",
    "abplayer3 = AlphaBetaPlayer(3, use_mobility=False)\n",
    "# There's a bug with minmaxplayer...\n",
    "mmplayer1 = MinMaxPlayer(1)\n",
    "mmplayer3 = MinMaxPlayer(3)"
   ]
  },
  {
   "cell_type": "code",
   "execution_count": null,
   "metadata": {},
   "outputs": [],
   "source": [
    "endboard = game_loop(abplayer3, randomplayer)"
   ]
  }
 ],
 "metadata": {
  "kernelspec": {
   "display_name": "chess",
   "language": "python",
   "name": "chess"
  },
  "language_info": {
   "codemirror_mode": {
    "name": "ipython",
    "version": 3
   },
   "file_extension": ".py",
   "mimetype": "text/x-python",
   "name": "python",
   "nbconvert_exporter": "python",
   "pygments_lexer": "ipython3",
   "version": "3.8.6"
  }
 },
 "nbformat": 4,
 "nbformat_minor": 4
}
