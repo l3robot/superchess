{
 "cells": [
  {
   "cell_type": "code",
   "execution_count": null,
   "metadata": {},
   "outputs": [],
   "source": [
    "import chess\n",
    "from chess import svg\n",
    "from superchess.players import RandomPlayer, MinMaxPlayer, AlphaBetaPlayer\n",
    "from superchess.game_mechanics import play_game\n",
    "%load_ext autoreload\n",
    "%autoreload 2"
   ]
  },
  {
   "cell_type": "code",
   "execution_count": null,
   "metadata": {},
   "outputs": [],
   "source": [
    "randomplayer = RandomPlayer()\n",
    "abplayer1 = AlphaBetaPlayer(1, use_mobility=False)\n",
    "abplayer3 = AlphaBetaPlayer(3, use_mobility=False)\n",
    "mmplayer1 = MinMaxPlayer(1)\n",
    "mmplayer3 = MinMaxPlayer(3)"
   ]
  },
  {
   "cell_type": "code",
   "execution_count": null,
   "metadata": {},
   "outputs": [],
   "source": [
    "endboard = play_game(abplayer3, abplayer3)"
   ]
  },
  {
   "cell_type": "code",
   "execution_count": null,
   "metadata": {},
   "outputs": [],
   "source": [
    "checkmatein2board = chess.Board(fen='8/k7/6R1/8/8/8/8/K6R w')\n",
    "play_game(abplayer3, abplayer1, checkmatein2board, gamelength=2, delay=2)"
   ]
  },
  {
   "cell_type": "code",
   "execution_count": null,
   "metadata": {},
   "outputs": [],
   "source": [
    "board = chess.Board('k7/8/K7/Q7/8/8/8/8')\n",
    "board\n",
    "play_game(abplayer3, randomplayer, board, delay=1)"
   ]
  },
  {
   "cell_type": "code",
   "execution_count": null,
   "metadata": {},
   "outputs": [],
   "source": []
  }
 ],
 "metadata": {
  "kernelspec": {
   "display_name": "chess",
   "language": "python",
   "name": "chess"
  },
  "language_info": {
   "codemirror_mode": {
    "name": "ipython",
    "version": 3
   },
   "file_extension": ".py",
   "mimetype": "text/x-python",
   "name": "python",
   "nbconvert_exporter": "python",
   "pygments_lexer": "ipython3",
   "version": "3.8.6"
  }
 },
 "nbformat": 4,
 "nbformat_minor": 4
}
